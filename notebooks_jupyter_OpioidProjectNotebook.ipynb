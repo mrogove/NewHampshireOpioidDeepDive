{
 "cells": [
  {
   "cell_type": "code",
   "execution_count": 3,
   "metadata": {},
   "outputs": [],
   "source": [
    "import os\n",
    "import sys\n",
    "from pyspark.sql.functions import sum as _sum, max as _max, min as _min"
   ]
  },
  {
   "cell_type": "markdown",
   "metadata": {},
   "source": [
    "# Preparing the data\n",
    "## Ingest dictionary and source file"
   ]
  },
  {
   "cell_type": "code",
   "execution_count": 2,
   "metadata": {
    "scrolled": true
   },
   "outputs": [],
   "source": [
    "datadict = spark.read.option(\"sep\", \",\").option(\"header\",\"true\").csv(\"gs://119-f19-opioidbucket/data_dictionary.csv\")"
   ]
  },
  {
   "cell_type": "code",
   "execution_count": 3,
   "metadata": {},
   "outputs": [
    {
     "name": "stdout",
     "output_type": "stream",
     "text": [
      "+--------------------+--------------------+\n",
      "|          ColumnName|         Description|\n",
      "+--------------------+--------------------+\n",
      "|     REPORTER_DEA_NO|Unique id of enti...|\n",
      "|    REPORTER_BUS_ACT|Type of business ...|\n",
      "|       REPORTER_NAME|Name of entity re...|\n",
      "|REPORTER_ADDL_CO_...|Additional compan...|\n",
      "|   REPORTER_ADDRESS1|Address of entity...|\n",
      "|   REPORTER_ADDRESS2|Additional addres...|\n",
      "|       REPORTER_CITY|City of entity re...|\n",
      "|      REPORTER_STATE|State of entity r...|\n",
      "|        REPORTER_ZIP|Zip code of entit...|\n",
      "|     REPORTER_COUNTY|County of entity ...|\n",
      "|        BUYER_DEA_NO|Unique id of enti...|\n",
      "|       BUYER_BUS_ACT|Type of business ...|\n",
      "|          BUYER_NAME|Name of entity re...|\n",
      "|  BUYER_ADDL_CO_INFO|Additional compan...|\n",
      "|      BUYER_ADDRESS1|Address of entity...|\n",
      "|      BUYER_ADDRESS2|Additional addres...|\n",
      "|          BUYER_CITY|City of entity re...|\n",
      "|         BUYER_STATE|State of entity r...|\n",
      "|           BUYER_ZIP|Zip code of entit...|\n",
      "|        BUYER_COUNTY|County of entity ...|\n",
      "+--------------------+--------------------+\n",
      "only showing top 20 rows\n",
      "\n"
     ]
    }
   ],
   "source": [
    "datadict.show()"
   ]
  },
  {
   "cell_type": "code",
   "execution_count": null,
   "metadata": {
    "scrolled": true
   },
   "outputs": [
    {
     "name": "stdout",
     "output_type": "stream",
     "text": [
      "root\n",
      " |-- REPORTER_DEA_NO: string (nullable = true)\n",
      " |-- REPORTER_BUS_ACT: string (nullable = true)\n",
      " |-- REPORTER_NAME: string (nullable = true)\n",
      " |-- REPORTER_ADDL_CO_INFO: string (nullable = true)\n",
      " |-- REPORTER_ADDRESS1: string (nullable = true)\n",
      " |-- REPORTER_ADDRESS2: string (nullable = true)\n",
      " |-- REPORTER_CITY: string (nullable = true)\n",
      " |-- REPORTER_STATE: string (nullable = true)\n",
      " |-- REPORTER_ZIP: integer (nullable = true)\n",
      " |-- REPORTER_COUNTY: string (nullable = true)\n",
      " |-- BUYER_DEA_NO: string (nullable = true)\n",
      " |-- BUYER_BUS_ACT: string (nullable = true)\n",
      " |-- BUYER_NAME: string (nullable = true)\n",
      " |-- BUYER_ADDL_CO_INFO: string (nullable = true)\n",
      " |-- BUYER_ADDRESS1: string (nullable = true)\n",
      " |-- BUYER_ADDRESS2: string (nullable = true)\n",
      " |-- BUYER_CITY: string (nullable = true)\n",
      " |-- BUYER_STATE: string (nullable = true)\n",
      " |-- BUYER_ZIP: integer (nullable = true)\n",
      " |-- BUYER_COUNTY: string (nullable = true)\n",
      " |-- TRANSACTION_CODE: string (nullable = true)\n",
      " |-- DRUG_CODE: integer (nullable = true)\n",
      " |-- NDC_NO: string (nullable = true)\n",
      " |-- DRUG_NAME: string (nullable = true)\n",
      " |-- QUANTITY: double (nullable = true)\n",
      " |-- UNIT: string (nullable = true)\n",
      " |-- ACTION_INDICATOR: string (nullable = true)\n",
      " |-- ORDER_FORM_NO: string (nullable = true)\n",
      " |-- CORRECTION_NO: string (nullable = true)\n",
      " |-- STRENGTH: string (nullable = true)\n",
      " |-- TRANSACTION_DATE: integer (nullable = true)\n",
      " |-- CALC_BASE_WT_IN_GM: double (nullable = true)\n",
      " |-- DOSAGE_UNIT: string (nullable = true)\n",
      " |-- TRANSACTION_ID: long (nullable = true)\n",
      " |-- Product_Name: string (nullable = true)\n",
      " |-- Ingredient_Name: string (nullable = true)\n",
      " |-- Measure: string (nullable = true)\n",
      " |-- MME_Conversion_Factor: double (nullable = true)\n",
      " |-- Combined_Labeler_Name: string (nullable = true)\n",
      " |-- Revised_Company_Name: string (nullable = true)\n",
      " |-- Reporter_family: string (nullable = true)\n",
      " |-- dos_str: string (nullable = true)\n",
      "\n"
     ]
    }
   ],
   "source": [
    "df = spark.read.option(\"sep\", \"\\t\").option(\"header\", \"true\").option(\"inferSchema\", \"true\").csv(\"gs://119-f19-opioidbucket/arcos_all_washpost.tsv\")\n",
    "# this take a few minutes.\n",
    "df.printSchema()\n",
    "## ideas for speeding up:\n",
    "#co-locate compute and the buckets\n",
    "#more nodes; specialize?"
   ]
  },
  {
   "cell_type": "code",
   "execution_count": null,
   "metadata": {},
   "outputs": [],
   "source": [
    "# df.count() # => 178,598,026 records!"
   ]
  },
  {
   "cell_type": "code",
   "execution_count": null,
   "metadata": {},
   "outputs": [],
   "source": [
    "totalcount = 178598026"
   ]
  },
  {
   "cell_type": "markdown",
   "metadata": {},
   "source": [
    "## Paring down to NH"
   ]
  },
  {
   "cell_type": "code",
   "execution_count": 5,
   "metadata": {},
   "outputs": [],
   "source": [
    "df1 = df.filter(df.BUYER_STATE == 'NH')"
   ]
  },
  {
   "cell_type": "code",
   "execution_count": null,
   "metadata": {},
   "outputs": [],
   "source": [
    "# df1.count() #757944. This took a WHILE!\n",
    "NHcount = 757944"
   ]
  },
  {
   "cell_type": "code",
   "execution_count": 6,
   "metadata": {},
   "outputs": [
    {
     "data": {
      "text/plain": [
       "Row(REPORTER_DEA_NO=u'PB0020139', REPORTER_BUS_ACT=u'DISTRIBUTOR', REPORTER_NAME=u'BURLINGTON DRUG COMPANY', REPORTER_ADDL_CO_INFO=u'null', REPORTER_ADDRESS1=u'91 CATAMOUNT DR', REPORTER_ADDRESS2=u'null', REPORTER_CITY=u'MILTON', REPORTER_STATE=u'VT', REPORTER_ZIP=5468, REPORTER_COUNTY=u'CHITTENDEN', BUYER_DEA_NO=u'AB3017212', BUYER_BUS_ACT=u'RETAIL PHARMACY', BUYER_NAME=u'BANNON PHARMACY INC', BUYER_ADDL_CO_INFO=u'null', BUYER_ADDRESS1=u'109 PLEASANT ST', BUYER_ADDRESS2=u'null', BUYER_CITY=u'CLAREMONT', BUYER_STATE=u'NH', BUYER_ZIP=3743, BUYER_COUNTY=u'SULLIVAN', TRANSACTION_CODE=u'S', DRUG_CODE=9193, NDC_NO=u'53746011805', DRUG_NAME=u'HYDROCODONE', QUANTITY=1.0, UNIT=u'null', ACTION_INDICATOR=u'null', ORDER_FORM_NO=u'null', CORRECTION_NO=u'null', STRENGTH=u'null', TRANSACTION_DATE=9082008, CALC_BASE_WT_IN_GM=2.27025, DOSAGE_UNIT=u'500.0', TRANSACTION_ID=803008893, Product_Name=u'HYDROCODONE.BITARTRATE 7.5MG/APAP 75', Ingredient_Name=u'HYDROCODONE BITARTRATE HEMIPENTAHYDRATE', Measure=u'TAB', MME_Conversion_Factor=1.0, Combined_Labeler_Name=u'Amneal Pharmaceuticals LLC', Revised_Company_Name=u'Amneal Pharmaceuticals, Inc.', Reporter_family=u'Burlington Drug Company', dos_str=u'7.5')"
      ]
     },
     "execution_count": 6,
     "metadata": {},
     "output_type": "execute_result"
    }
   ],
   "source": [
    "df1.head()"
   ]
  },
  {
   "cell_type": "code",
   "execution_count": 7,
   "metadata": {},
   "outputs": [],
   "source": [
    "df1 = df1.cache()"
   ]
  },
  {
   "cell_type": "code",
   "execution_count": 34,
   "metadata": {},
   "outputs": [
    {
     "name": "stdout",
     "output_type": "stream",
     "text": [
      "root\n",
      " |-- BUYER_NAME: string (nullable = true)\n",
      " |-- BUYER_ADDL_CO_INFO: string (nullable = true)\n",
      " |-- BUYER_CITY: string (nullable = true)\n",
      " |-- REPORT_COUNT: long (nullable = false)\n",
      " |-- PILL_SUM: double (nullable = true)\n",
      "\n"
     ]
    }
   ],
   "source": [
    "### lets get sql with it###\n",
    "from pyspark.sql import SQLContext\n",
    "\n",
    "sqlContext = SQLContext(sc)\n",
    "\n",
    "df1.createOrReplaceTempView(\"NHOpioids\")\n",
    "\n",
    "#specifically, we want to look at Coos County:\n",
    "results = sqlContext.sql(\"SELECT BUYER_NAME, BUYER_ADDL_CO_INFO, BUYER_CITY,\\\n",
    "                         COUNT(TRANSACTION_id) AS REPORT_COUNT,\\\n",
    "                         SUM(DOSAGE_UNIT) AS PILL_SUM \\\n",
    "                         FROM NHOpioids \\\n",
    "                         WHERE 1=1 \\\n",
    "                         AND BUYER_COUNTY = 'COOS'\\\n",
    "                         GROUP BY BUYER_NAME,BUYER_ADDL_CO_INFO, BUYER_CITY\") #instantaneous\n",
    "\n",
    "results.printSchema()\n",
    "# what I actually want to do: sort and get max value, by column name."
   ]
  },
  {
   "cell_type": "code",
   "execution_count": 35,
   "metadata": {},
   "outputs": [
    {
     "name": "stdout",
     "output_type": "stream",
     "text": [
      "+-------------------------------+-------------------------------+----------+------------+---------+\n",
      "|BUYER_NAME                     |BUYER_ADDL_CO_INFO             |BUYER_CITY|REPORT_COUNT|PILL_SUM |\n",
      "+-------------------------------+-------------------------------+----------+------------+---------+\n",
      "|RITE AID OF NEW HAMPSHIRE, INC.|RITE AID #4138                 |COLEBROOK |3831        |2383380.0|\n",
      "|RITE AID OF NEW HAMPSHIRE, INC.|RITE AID #4127                 |LANCASTER |3246        |2356640.0|\n",
      "|WAL-MART PHARMACY 10-2634      |null                           |GORHAM    |5323        |1555000.0|\n",
      "|MAXI DRUG NORTH, INC.          |RITE AID #10287                |BERLIN    |2492        |997700.0 |\n",
      "|LAPERLE'S IGA PHARMACY         |null                           |COLEBROOK |1936        |394600.0 |\n",
      "|RITE AID OF NEW HAMPSHIRE INC  |RITE AID PHARMACY #4157        |GORHAM    |858         |202600.0 |\n",
      "|RITE AID OF NEW HAMPSHIRE INC  |null                           |BERLIN    |410         |199700.0 |\n",
      "|PHARMACY OPERATIONS, INC.      |D/B/A THE MEDICINE SHOPPE #1926|BERLIN    |338         |130300.0 |\n",
      "+-------------------------------+-------------------------------+----------+------------+---------+\n",
      "\n"
     ]
    }
   ],
   "source": [
    "# this collect step may take a few minutes as well\n",
    "# this took ~8 minutes with following settings: central, 1000GB master, 4 500GB helper nodes\n",
    "results.sort(results.PILL_SUM.desc()).show(20,False)\n",
    "\n",
    "#there are 9 pharmacies in the dataset for Coos County.\n",
    "#the top hits might be likely targets for pill diversion investigation."
   ]
  },
  {
   "cell_type": "code",
   "execution_count": 36,
   "metadata": {},
   "outputs": [],
   "source": [
    "##did the average dose over time present any kind of obvious trend?\n",
    "strength_vals = sqlContext.sql(\n",
    "                        \"SELECT \\\n",
    "                            BUYER_NAME, BUYER_ADDL_CO_INFO, \\\n",
    "                            RIGHT(TRANSACTION_DATE,4) AS YEAR, \\\n",
    "                            SUM(DOSAGE_UNIT) AS TOTAL_PILLS, \\\n",
    "                            FORMAT_NUMBER(AVG(dos_str),2) AS AVG_DOSE \\\n",
    "                         FROM NHOpioids \\\n",
    "                         WHERE BUYER_COUNTY = 'COOS' \\\n",
    "                         GROUP BY BUYER_NAME, BUYER_ADDL_CO_INFO, YEAR\\\n",
    "                         ORDER BY BUYER_NAME, BUYER_ADDL_CO_INFO, YEAR DESC\") #instantaneous"
   ]
  },
  {
   "cell_type": "code",
   "execution_count": 37,
   "metadata": {},
   "outputs": [
    {
     "name": "stdout",
     "output_type": "stream",
     "text": [
      "+-------------------------------+-------------------------------+----+-----------+--------+\n",
      "|BUYER_NAME                     |BUYER_ADDL_CO_INFO             |YEAR|TOTAL_PILLS|AVG_DOSE|\n",
      "+-------------------------------+-------------------------------+----+-----------+--------+\n",
      "|LAPERLE'S IGA PHARMACY         |null                           |2010|128700.0   |15.01   |\n",
      "|LAPERLE'S IGA PHARMACY         |null                           |2009|149300.0   |16.06   |\n",
      "|LAPERLE'S IGA PHARMACY         |null                           |2008|79500.0    |13.80   |\n",
      "|LAPERLE'S IGA PHARMACY         |null                           |2007|33700.0    |15.00   |\n",
      "|LAPERLE'S IGA PHARMACY         |null                           |2006|3400.0     |10.62   |\n",
      "|MAXI DRUG NORTH, INC.          |RITE AID #10287                |2012|212540.0   |13.71   |\n",
      "|MAXI DRUG NORTH, INC.          |RITE AID #10287                |2011|189160.0   |14.09   |\n",
      "|MAXI DRUG NORTH, INC.          |RITE AID #10287                |2010|180600.0   |17.14   |\n",
      "|MAXI DRUG NORTH, INC.          |RITE AID #10287                |2009|141200.0   |13.20   |\n",
      "|MAXI DRUG NORTH, INC.          |RITE AID #10287                |2008|115700.0   |12.34   |\n",
      "|MAXI DRUG NORTH, INC.          |RITE AID #10287                |2007|77200.0    |10.79   |\n",
      "|MAXI DRUG NORTH, INC.          |RITE AID #10287                |2006|81300.0    |12.52   |\n",
      "|PHARMACY OPERATIONS, INC.      |D/B/A THE MEDICINE SHOPPE #1926|2008|82100.0    |16.12   |\n",
      "|PHARMACY OPERATIONS, INC.      |D/B/A THE MEDICINE SHOPPE #1926|2007|48200.0    |15.10   |\n",
      "|RITE AID OF NEW HAMPSHIRE INC  |RITE AID PHARMACY #4157        |2009|58600.0    |14.39   |\n",
      "|RITE AID OF NEW HAMPSHIRE INC  |RITE AID PHARMACY #4157        |2008|56400.0    |14.05   |\n",
      "|RITE AID OF NEW HAMPSHIRE INC  |RITE AID PHARMACY #4157        |2007|49000.0    |11.77   |\n",
      "|RITE AID OF NEW HAMPSHIRE INC  |RITE AID PHARMACY #4157        |2006|38600.0    |12.74   |\n",
      "|RITE AID OF NEW HAMPSHIRE INC  |null                           |2007|73800.0    |14.56   |\n",
      "|RITE AID OF NEW HAMPSHIRE INC  |null                           |2006|125900.0   |12.88   |\n",
      "|RITE AID OF NEW HAMPSHIRE, INC.|RITE AID #4127                 |2012|383810.0   |13.32   |\n",
      "|RITE AID OF NEW HAMPSHIRE, INC.|RITE AID #4127                 |2011|381650.0   |12.64   |\n",
      "|RITE AID OF NEW HAMPSHIRE, INC.|RITE AID #4127                 |2010|350580.0   |12.61   |\n",
      "|RITE AID OF NEW HAMPSHIRE, INC.|RITE AID #4127                 |2009|329100.0   |11.86   |\n",
      "|RITE AID OF NEW HAMPSHIRE, INC.|RITE AID #4127                 |2008|318600.0   |12.44   |\n",
      "|RITE AID OF NEW HAMPSHIRE, INC.|RITE AID #4127                 |2007|325400.0   |12.72   |\n",
      "|RITE AID OF NEW HAMPSHIRE, INC.|RITE AID #4127                 |2006|267500.0   |12.53   |\n",
      "|RITE AID OF NEW HAMPSHIRE, INC.|RITE AID #4138                 |2012|474950.0   |14.61   |\n",
      "|RITE AID OF NEW HAMPSHIRE, INC.|RITE AID #4138                 |2011|494680.0   |13.84   |\n",
      "|RITE AID OF NEW HAMPSHIRE, INC.|RITE AID #4138                 |2010|342250.0   |15.56   |\n",
      "|RITE AID OF NEW HAMPSHIRE, INC.|RITE AID #4138                 |2009|313100.0   |13.32   |\n",
      "|RITE AID OF NEW HAMPSHIRE, INC.|RITE AID #4138                 |2008|259800.0   |11.98   |\n",
      "|RITE AID OF NEW HAMPSHIRE, INC.|RITE AID #4138                 |2007|264300.0   |11.82   |\n",
      "|RITE AID OF NEW HAMPSHIRE, INC.|RITE AID #4138                 |2006|234300.0   |10.79   |\n",
      "|WAL-MART PHARMACY 10-2634      |null                           |2012|315100.0   |13.68   |\n",
      "|WAL-MART PHARMACY 10-2634      |null                           |2011|289000.0   |12.48   |\n",
      "|WAL-MART PHARMACY 10-2634      |null                           |2010|270500.0   |14.83   |\n",
      "|WAL-MART PHARMACY 10-2634      |null                           |2009|223800.0   |14.14   |\n",
      "|WAL-MART PHARMACY 10-2634      |null                           |2008|188300.0   |14.78   |\n",
      "|WAL-MART PHARMACY 10-2634      |null                           |2007|156400.0   |14.99   |\n",
      "|WAL-MART PHARMACY 10-2634      |null                           |2006|111900.0   |15.03   |\n",
      "+-------------------------------+-------------------------------+----+-----------+--------+\n",
      "\n"
     ]
    }
   ],
   "source": [
    "strength_vals.show(50,False)"
   ]
  },
  {
   "cell_type": "code",
   "execution_count": 49,
   "metadata": {},
   "outputs": [
    {
     "name": "stdout",
     "output_type": "stream",
     "text": [
      "+-------------------------------+-------------------------------+------------+----------+----+-----------+--------+\n",
      "|BUYER_NAME                     |BUYER_ADDL_CO_INFO             |BUYER_DEA_NO|BUYER_CITY|YEAR|TOTAL_PILLS|AVG_DOSE|\n",
      "+-------------------------------+-------------------------------+------------+----------+----+-----------+--------+\n",
      "|MAXI DRUG NORTH, INC.          |RITE AID #10287                |BM5180601   |BERLIN    |2007|35900.0    |11.91   |\n",
      "|MAXI DRUG NORTH, INC.          |RITE AID #10287                |BM5180601   |BERLIN    |2006|81300.0    |12.52   |\n",
      "|RITE AID OF NEW HAMPSHIRE INC  |null                           |BR3822978   |BERLIN    |2007|73800.0    |14.56   |\n",
      "|RITE AID OF NEW HAMPSHIRE INC  |null                           |BR3822978   |BERLIN    |2006|125900.0   |12.88   |\n",
      "|RITE AID OF NEW HAMPSHIRE, INC.|RITE AID #4138                 |BR4157738   |COLEBROOK |2012|474950.0   |14.61   |\n",
      "|RITE AID OF NEW HAMPSHIRE, INC.|RITE AID #4138                 |BR4157738   |COLEBROOK |2011|494680.0   |13.84   |\n",
      "|RITE AID OF NEW HAMPSHIRE, INC.|RITE AID #4138                 |BR4157738   |COLEBROOK |2010|342250.0   |15.56   |\n",
      "|RITE AID OF NEW HAMPSHIRE, INC.|RITE AID #4138                 |BR4157738   |COLEBROOK |2009|313100.0   |13.32   |\n",
      "|RITE AID OF NEW HAMPSHIRE, INC.|RITE AID #4138                 |BR4157738   |COLEBROOK |2008|259800.0   |11.98   |\n",
      "|RITE AID OF NEW HAMPSHIRE, INC.|RITE AID #4138                 |BR4157738   |COLEBROOK |2007|264300.0   |11.82   |\n",
      "|RITE AID OF NEW HAMPSHIRE, INC.|RITE AID #4138                 |BR4157738   |COLEBROOK |2006|234300.0   |10.79   |\n",
      "|RITE AID OF NEW HAMPSHIRE INC  |RITE AID PHARMACY #4157        |BR4157788   |GORHAM    |2009|58600.0    |14.39   |\n",
      "|RITE AID OF NEW HAMPSHIRE INC  |RITE AID PHARMACY #4157        |BR4157788   |GORHAM    |2008|56400.0    |14.05   |\n",
      "|RITE AID OF NEW HAMPSHIRE INC  |RITE AID PHARMACY #4157        |BR4157788   |GORHAM    |2007|49000.0    |11.77   |\n",
      "|RITE AID OF NEW HAMPSHIRE INC  |RITE AID PHARMACY #4157        |BR4157788   |GORHAM    |2006|38600.0    |12.74   |\n",
      "|RITE AID OF NEW HAMPSHIRE, INC.|RITE AID #4127                 |BR4157841   |LANCASTER |2012|383810.0   |13.32   |\n",
      "|RITE AID OF NEW HAMPSHIRE, INC.|RITE AID #4127                 |BR4157841   |LANCASTER |2011|381650.0   |12.64   |\n",
      "|RITE AID OF NEW HAMPSHIRE, INC.|RITE AID #4127                 |BR4157841   |LANCASTER |2010|350580.0   |12.61   |\n",
      "|RITE AID OF NEW HAMPSHIRE, INC.|RITE AID #4127                 |BR4157841   |LANCASTER |2009|329100.0   |11.86   |\n",
      "|RITE AID OF NEW HAMPSHIRE, INC.|RITE AID #4127                 |BR4157841   |LANCASTER |2008|318600.0   |12.44   |\n",
      "|RITE AID OF NEW HAMPSHIRE, INC.|RITE AID #4127                 |BR4157841   |LANCASTER |2007|325400.0   |12.72   |\n",
      "|RITE AID OF NEW HAMPSHIRE, INC.|RITE AID #4127                 |BR4157841   |LANCASTER |2006|267500.0   |12.53   |\n",
      "|MAXI DRUG NORTH, INC.          |RITE AID #10287                |BR5180601   |BERLIN    |2012|212540.0   |13.71   |\n",
      "|MAXI DRUG NORTH, INC.          |RITE AID #10287                |BR5180601   |BERLIN    |2011|189160.0   |14.09   |\n",
      "|MAXI DRUG NORTH, INC.          |RITE AID #10287                |BR5180601   |BERLIN    |2010|180600.0   |17.14   |\n",
      "|MAXI DRUG NORTH, INC.          |RITE AID #10287                |BR5180601   |BERLIN    |2009|141200.0   |13.20   |\n",
      "|MAXI DRUG NORTH, INC.          |RITE AID #10287                |BR5180601   |BERLIN    |2008|115700.0   |12.34   |\n",
      "|MAXI DRUG NORTH, INC.          |RITE AID #10287                |BR5180601   |BERLIN    |2007|41300.0    |9.50    |\n",
      "|WAL-MART PHARMACY 10-2634      |null                           |BW5783623   |GORHAM    |2012|315100.0   |13.68   |\n",
      "|WAL-MART PHARMACY 10-2634      |null                           |BW5783623   |GORHAM    |2011|289000.0   |12.48   |\n",
      "|WAL-MART PHARMACY 10-2634      |null                           |BW5783623   |GORHAM    |2010|270500.0   |14.83   |\n",
      "|WAL-MART PHARMACY 10-2634      |null                           |BW5783623   |GORHAM    |2009|223800.0   |14.14   |\n",
      "|WAL-MART PHARMACY 10-2634      |null                           |BW5783623   |GORHAM    |2008|188300.0   |14.78   |\n",
      "|WAL-MART PHARMACY 10-2634      |null                           |BW5783623   |GORHAM    |2007|156400.0   |14.99   |\n",
      "|WAL-MART PHARMACY 10-2634      |null                           |BW5783623   |GORHAM    |2006|111900.0   |15.03   |\n",
      "|LAPERLE'S IGA PHARMACY         |null                           |FL0059887   |COLEBROOK |2010|128700.0   |15.01   |\n",
      "|LAPERLE'S IGA PHARMACY         |null                           |FL0059887   |COLEBROOK |2009|149300.0   |16.06   |\n",
      "|LAPERLE'S IGA PHARMACY         |null                           |FL0059887   |COLEBROOK |2008|79500.0    |13.80   |\n",
      "|LAPERLE'S IGA PHARMACY         |null                           |FL0059887   |COLEBROOK |2007|33700.0    |15.00   |\n",
      "|LAPERLE'S IGA PHARMACY         |null                           |FL0059887   |COLEBROOK |2006|3400.0     |10.62   |\n",
      "|PHARMACY OPERATIONS, INC.      |D/B/A THE MEDICINE SHOPPE #1926|FP0333942   |BERLIN    |2008|82100.0    |16.12   |\n",
      "|PHARMACY OPERATIONS, INC.      |D/B/A THE MEDICINE SHOPPE #1926|FP0333942   |BERLIN    |2007|48200.0    |15.10   |\n",
      "+-------------------------------+-------------------------------+------------+----------+----+-----------+--------+\n",
      "\n"
     ]
    }
   ],
   "source": [
    "##rewritten with DEA ID:\n",
    "strength_vals = sqlContext.sql(\n",
    "                        \"SELECT \\\n",
    "                            BUYER_NAME, BUYER_ADDL_CO_INFO, BUYER_DEA_NO, BUYER_CITY, \\\n",
    "                            RIGHT(TRANSACTION_DATE,4) AS YEAR, \\\n",
    "                            SUM(DOSAGE_UNIT) AS TOTAL_PILLS, \\\n",
    "                            FORMAT_NUMBER(AVG(dos_str),2) AS AVG_DOSE \\\n",
    "                         FROM NHOpioids \\\n",
    "                         WHERE BUYER_COUNTY = 'COOS' \\\n",
    "                         GROUP BY BUYER_NAME, BUYER_ADDL_CO_INFO, BUYER_DEA_NO, BUYER_CITY, YEAR\\\n",
    "                         ORDER BY BUYER_DEA_NO, YEAR DESC\") #instantaneous\n",
    "\n",
    "strength_vals.show(50,False)"
   ]
  },
  {
   "cell_type": "code",
   "execution_count": 53,
   "metadata": {},
   "outputs": [
    {
     "name": "stdout",
     "output_type": "stream",
     "text": [
      "+---------------+------------------------+--------------------------------------------------+----+-----------+\n",
      "|REPORTER_DEA_NO|REPORTER_NAME           |REPORTER_ADDL_CO_INFO                             |YEAR|TOTAL_PILLS|\n",
      "+---------------+------------------------+--------------------------------------------------+----+-----------+\n",
      "|PM0020850      |MCKESSON CORPORATION    |null                                              |2012|331540.0   |\n",
      "|RE0356003      |ECKERD CORPORATION      |D/B/A RITE AID LIVERPOOL DISTRIBUTION CENTER (#55)|2012|119510.0   |\n",
      "|RA0287020      |ANDA PHARMACEUTICALS INC|null                                              |2012|23800.0    |\n",
      "|RA0180733      |ANDA, INC               |null                                              |2012|100.0      |\n",
      "|PM0020850      |MCKESSON CORPORATION    |null                                              |2011|384860.0   |\n",
      "|RE0356003      |ECKERD CORPORATION      |D/B/A RITE AID LIVERPOOL DISTRIBUTION CENTER (#55)|2011|109820.0   |\n",
      "|PM0020850      |MCKESSON CORPORATION    |null                                              |2010|248100.0   |\n",
      "|RE0356003      |ECKERD CORPORATION      |D/B/A RITE AID LIVERPOOL DISTRIBUTION CENTER (#55)|2010|93250.0    |\n",
      "|RA0287020      |ANDA PHARMACEUTICALS INC|null                                              |2010|900.0      |\n",
      "|PM0020850      |MCKESSON CORPORATION    |null                                              |2009|227200.0   |\n",
      "|RE0356003      |ECKERD CORPORATION      |D/B/A RITE AID LIVERPOOL DISTRIBUTION CENTER (#55)|2009|46400.0    |\n",
      "|RR0236073      |RITE AID MID-ATLANTIC   |null                                              |2009|38500.0    |\n",
      "|RA0287020      |ANDA PHARMACEUTICALS INC|null                                              |2009|1000.0     |\n",
      "|PM0020850      |MCKESSON CORPORATION    |null                                              |2008|170300.0   |\n",
      "|RR0236073      |RITE AID MID-ATLANTIC   |null                                              |2008|89500.0    |\n",
      "|PM0020850      |MCKESSON CORPORATION    |null                                              |2007|180400.0   |\n",
      "|RR0236073      |RITE AID MID-ATLANTIC   |null                                              |2007|83900.0    |\n",
      "|PM0020850      |MCKESSON CORPORATION    |null                                              |2006|162200.0   |\n",
      "|RR0236073      |RITE AID MID-ATLANTIC   |null                                              |2006|72100.0    |\n",
      "+---------------+------------------------+--------------------------------------------------+----+-----------+\n",
      "\n"
     ]
    }
   ],
   "source": [
    "### We've identified DEA NO. BR4157738 and BR4157841 as our high offenders.\n",
    "### But clearly Colebrook, BR4157738, experienced most dramatic change over time, while Lancaster, BR4157841, rose more steadily.\n",
    "\n",
    "### Who did they buy from? What were the changes?\n",
    "\n",
    "sellers = sqlContext.sql(\n",
    "                        \"SELECT \\\n",
    "                            REPORTER_DEA_NO, REPORTER_NAME, REPORTER_ADDL_CO_INFO,\\\n",
    "                            RIGHT(TRANSACTION_DATE,4) AS YEAR, \\\n",
    "                            SUM(DOSAGE_UNIT) AS TOTAL_PILLS \\\n",
    "                         FROM NHOpioids \\\n",
    "                         WHERE BUYER_DEA_NO = 'BR4157738' \\\n",
    "                         GROUP BY REPORTER_DEA_NO, REPORTER_NAME, REPORTER_ADDL_CO_INFO, YEAR\\\n",
    "                         ORDER BY YEAR DESC, TOTAL_PILLS DESC\")\n",
    "\n",
    "sellers.show(50,False)"
   ]
  },
  {
   "cell_type": "code",
   "execution_count": 27,
   "metadata": {},
   "outputs": [],
   "source": [
    "### There is no obvious change over time in the average dose strength of the pills, just the number of pills.\n",
    "\n",
    "### Deep-dive into who the big offenders bought from.\n",
    "\n",
    "### It looks like somes pharmacies either stopped operating or selling opioids after '07-'08,\n",
    "###  which may have driven up the numbers at the remaining large chain locations (Rite Aids, Walmart)"
   ]
  },
  {
   "cell_type": "code",
   "execution_count": null,
   "metadata": {},
   "outputs": [],
   "source": []
  }
 ],
 "metadata": {
  "kernelspec": {
   "display_name": "PySpark",
   "language": "python",
   "name": "pyspark"
  },
  "language_info": {
   "codemirror_mode": {
    "name": "ipython",
    "version": 2
   },
   "file_extension": ".py",
   "mimetype": "text/x-python",
   "name": "python",
   "nbconvert_exporter": "python",
   "pygments_lexer": "ipython2",
   "version": "2.7.14"
  }
 },
 "nbformat": 4,
 "nbformat_minor": 2
}