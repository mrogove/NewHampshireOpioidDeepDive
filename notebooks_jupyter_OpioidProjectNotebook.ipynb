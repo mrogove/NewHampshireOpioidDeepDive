{
 "cells": [
  {
   "cell_type": "code",
   "execution_count": 57,
   "metadata": {},
   "outputs": [],
   "source": [
    "import os\n",
    "import sys\n",
    "import pyspark.sql.functions"
   ]
  },
  {
   "cell_type": "markdown",
   "metadata": {},
   "source": [
    "# Preparing the data\n",
    "## Ingest dictionary and source file\n",
    "(use dictionary as reference)"
   ]
  },
  {
   "cell_type": "code",
   "execution_count": 3,
   "metadata": {
    "scrolled": true
   },
   "outputs": [],
   "source": [
    "datadict = spark.read.option(\"sep\", \",\").option(\"header\",\"true\").csv(\"gs://119-f19-opioidbucket/data_dictionary.csv\")"
   ]
  },
  {
   "cell_type": "code",
   "execution_count": 4,
   "metadata": {
    "scrolled": true
   },
   "outputs": [
    {
     "name": "stdout",
     "output_type": "stream",
     "text": [
      "+--------------------+--------------------+\n",
      "|          ColumnName|         Description|\n",
      "+--------------------+--------------------+\n",
      "|     REPORTER_DEA_NO|Unique id of enti...|\n",
      "|    REPORTER_BUS_ACT|Type of business ...|\n",
      "|       REPORTER_NAME|Name of entity re...|\n",
      "|REPORTER_ADDL_CO_...|Additional compan...|\n",
      "|   REPORTER_ADDRESS1|Address of entity...|\n",
      "|   REPORTER_ADDRESS2|Additional addres...|\n",
      "|       REPORTER_CITY|City of entity re...|\n",
      "|      REPORTER_STATE|State of entity r...|\n",
      "|        REPORTER_ZIP|Zip code of entit...|\n",
      "|     REPORTER_COUNTY|County of entity ...|\n",
      "|        BUYER_DEA_NO|Unique id of enti...|\n",
      "|       BUYER_BUS_ACT|Type of business ...|\n",
      "|          BUYER_NAME|Name of entity re...|\n",
      "|  BUYER_ADDL_CO_INFO|Additional compan...|\n",
      "|      BUYER_ADDRESS1|Address of entity...|\n",
      "|      BUYER_ADDRESS2|Additional addres...|\n",
      "|          BUYER_CITY|City of entity re...|\n",
      "|         BUYER_STATE|State of entity r...|\n",
      "|           BUYER_ZIP|Zip code of entit...|\n",
      "|        BUYER_COUNTY|County of entity ...|\n",
      "+--------------------+--------------------+\n",
      "only showing top 20 rows\n",
      "\n"
     ]
    }
   ],
   "source": [
    "datadict.show()"
   ]
  },
  {
   "cell_type": "code",
   "execution_count": null,
   "metadata": {
    "scrolled": true
   },
   "outputs": [
    {
     "name": "stdout",
     "output_type": "stream",
     "text": [
      "root\n",
      " |-- REPORTER_DEA_NO: string (nullable = true)\n",
      " |-- REPORTER_BUS_ACT: string (nullable = true)\n",
      " |-- REPORTER_NAME: string (nullable = true)\n",
      " |-- REPORTER_ADDL_CO_INFO: string (nullable = true)\n",
      " |-- REPORTER_ADDRESS1: string (nullable = true)\n",
      " |-- REPORTER_ADDRESS2: string (nullable = true)\n",
      " |-- REPORTER_CITY: string (nullable = true)\n",
      " |-- REPORTER_STATE: string (nullable = true)\n",
      " |-- REPORTER_ZIP: integer (nullable = true)\n",
      " |-- REPORTER_COUNTY: string (nullable = true)\n",
      " |-- BUYER_DEA_NO: string (nullable = true)\n",
      " |-- BUYER_BUS_ACT: string (nullable = true)\n",
      " |-- BUYER_NAME: string (nullable = true)\n",
      " |-- BUYER_ADDL_CO_INFO: string (nullable = true)\n",
      " |-- BUYER_ADDRESS1: string (nullable = true)\n",
      " |-- BUYER_ADDRESS2: string (nullable = true)\n",
      " |-- BUYER_CITY: string (nullable = true)\n",
      " |-- BUYER_STATE: string (nullable = true)\n",
      " |-- BUYER_ZIP: integer (nullable = true)\n",
      " |-- BUYER_COUNTY: string (nullable = true)\n",
      " |-- TRANSACTION_CODE: string (nullable = true)\n",
      " |-- DRUG_CODE: integer (nullable = true)\n",
      " |-- NDC_NO: string (nullable = true)\n",
      " |-- DRUG_NAME: string (nullable = true)\n",
      " |-- QUANTITY: double (nullable = true)\n",
      " |-- UNIT: string (nullable = true)\n",
      " |-- ACTION_INDICATOR: string (nullable = true)\n",
      " |-- ORDER_FORM_NO: string (nullable = true)\n",
      " |-- CORRECTION_NO: string (nullable = true)\n",
      " |-- STRENGTH: string (nullable = true)\n",
      " |-- TRANSACTION_DATE: integer (nullable = true)\n",
      " |-- CALC_BASE_WT_IN_GM: double (nullable = true)\n",
      " |-- DOSAGE_UNIT: string (nullable = true)\n",
      " |-- TRANSACTION_ID: long (nullable = true)\n",
      " |-- Product_Name: string (nullable = true)\n",
      " |-- Ingredient_Name: string (nullable = true)\n",
      " |-- Measure: string (nullable = true)\n",
      " |-- MME_Conversion_Factor: double (nullable = true)\n",
      " |-- Combined_Labeler_Name: string (nullable = true)\n",
      " |-- Revised_Company_Name: string (nullable = true)\n",
      " |-- Reporter_family: string (nullable = true)\n",
      " |-- dos_str: string (nullable = true)\n",
      "\n"
     ]
    }
   ],
   "source": [
    "df = spark.read.option(\"sep\", \"\\t\").option(\"header\", \"true\").option(\"inferSchema\", \"true\").csv(\"gs://119-f19-opioidbucket/arcos_all_washpost.tsv\")\n",
    "# this take a few minutes.\n",
    "df.printSchema()\n",
    "## ideas for speeding up:\n",
    "#co-locate compute and the buckets\n",
    "#more nodes; specialize?"
   ]
  },
  {
   "cell_type": "code",
   "execution_count": 6,
   "metadata": {},
   "outputs": [],
   "source": [
    "# df.count() # => 178,598,026 records!"
   ]
  },
  {
   "cell_type": "markdown",
   "metadata": {},
   "source": [
    "## Paring down to State of interest"
   ]
  },
  {
   "cell_type": "code",
   "execution_count": 58,
   "metadata": {},
   "outputs": [],
   "source": [
    "#parameterized\n",
    "_state = 'NH'\n",
    "df1 = df.filter(df.BUYER_STATE == _state)"
   ]
  },
  {
   "cell_type": "code",
   "execution_count": 9,
   "metadata": {},
   "outputs": [],
   "source": [
    "# df1.count() #757944. This took a WHILE!"
   ]
  },
  {
   "cell_type": "code",
   "execution_count": 10,
   "metadata": {},
   "outputs": [
    {
     "data": {
      "text/plain": [
       "Row(REPORTER_DEA_NO=u'PB0020139', REPORTER_BUS_ACT=u'DISTRIBUTOR', REPORTER_NAME=u'BURLINGTON DRUG COMPANY', REPORTER_ADDL_CO_INFO=u'null', REPORTER_ADDRESS1=u'91 CATAMOUNT DR', REPORTER_ADDRESS2=u'null', REPORTER_CITY=u'MILTON', REPORTER_STATE=u'VT', REPORTER_ZIP=5468, REPORTER_COUNTY=u'CHITTENDEN', BUYER_DEA_NO=u'AB3017212', BUYER_BUS_ACT=u'RETAIL PHARMACY', BUYER_NAME=u'BANNON PHARMACY INC', BUYER_ADDL_CO_INFO=u'null', BUYER_ADDRESS1=u'109 PLEASANT ST', BUYER_ADDRESS2=u'null', BUYER_CITY=u'CLAREMONT', BUYER_STATE=u'NH', BUYER_ZIP=3743, BUYER_COUNTY=u'SULLIVAN', TRANSACTION_CODE=u'S', DRUG_CODE=9193, NDC_NO=u'53746011805', DRUG_NAME=u'HYDROCODONE', QUANTITY=1.0, UNIT=u'null', ACTION_INDICATOR=u'null', ORDER_FORM_NO=u'null', CORRECTION_NO=u'null', STRENGTH=u'null', TRANSACTION_DATE=9082008, CALC_BASE_WT_IN_GM=2.27025, DOSAGE_UNIT=u'500.0', TRANSACTION_ID=803008893, Product_Name=u'HYDROCODONE.BITARTRATE 7.5MG/APAP 75', Ingredient_Name=u'HYDROCODONE BITARTRATE HEMIPENTAHYDRATE', Measure=u'TAB', MME_Conversion_Factor=1.0, Combined_Labeler_Name=u'Amneal Pharmaceuticals LLC', Revised_Company_Name=u'Amneal Pharmaceuticals, Inc.', Reporter_family=u'Burlington Drug Company', dos_str=u'7.5')"
      ]
     },
     "execution_count": 10,
     "metadata": {},
     "output_type": "execute_result"
    }
   ],
   "source": [
    "df1.head()\n",
    "df1 = df1.cache()"
   ]
  },
  {
   "cell_type": "code",
   "execution_count": 60,
   "metadata": {},
   "outputs": [
    {
     "name": "stdout",
     "output_type": "stream",
     "text": [
      "root\n",
      " |-- BUYER_NAME: string (nullable = true)\n",
      " |-- BUYER_ADDL_CO_INFO: string (nullable = true)\n",
      " |-- BUYER_CITY: string (nullable = true)\n",
      " |-- REPORT_COUNT: long (nullable = false)\n",
      " |-- PILL_SUM: double (nullable = true)\n",
      "\n"
     ]
    }
   ],
   "source": [
    "### lets get sql with it###\n",
    "from pyspark.sql import SQLContext\n",
    "\n",
    "sqlContext = SQLContext(sc)\n",
    "\n",
    "df1.createOrReplaceTempView(\"StateOpioids\")\n",
    "\n",
    "#specifically, we want to look at Coos County, from our initial analysis:\n",
    "results = sqlContext.sql(\"SELECT BUYER_NAME, BUYER_ADDL_CO_INFO, BUYER_CITY,\\\n",
    "                         COUNT(TRANSACTION_id) AS REPORT_COUNT,\\\n",
    "                         SUM(DOSAGE_UNIT) AS PILL_SUM \\\n",
    "                         FROM StateOpioids \\\n",
    "                         WHERE 1=1 \\\n",
    "                         AND BUYER_COUNTY = 'COOS'\\\n",
    "                         GROUP BY BUYER_NAME,BUYER_ADDL_CO_INFO, BUYER_CITY\") #instantaneous\n",
    "\n",
    "results.printSchema()\n",
    "# what I actually want to do: sort and get max value, by column name."
   ]
  },
  {
   "cell_type": "markdown",
   "metadata": {},
   "source": [
    "## Results: Pharmacy detail in Coos County, NH\n",
    "There are 9 pharmacies in the dataset for Coos County.\n",
    "\n",
    "The top hits might be likely targets for pill diversion investigation."
   ]
  },
  {
   "cell_type": "code",
   "execution_count": 13,
   "metadata": {},
   "outputs": [
    {
     "name": "stdout",
     "output_type": "stream",
     "text": [
      "+-------------------------------+-------------------------------+----------+------------+---------+\n",
      "|BUYER_NAME                     |BUYER_ADDL_CO_INFO             |BUYER_CITY|REPORT_COUNT|PILL_SUM |\n",
      "+-------------------------------+-------------------------------+----------+------------+---------+\n",
      "|RITE AID OF NEW HAMPSHIRE, INC.|RITE AID #4138                 |COLEBROOK |3831        |2383380.0|\n",
      "|RITE AID OF NEW HAMPSHIRE, INC.|RITE AID #4127                 |LANCASTER |3246        |2356640.0|\n",
      "|WAL-MART PHARMACY 10-2634      |null                           |GORHAM    |5323        |1555000.0|\n",
      "|MAXI DRUG NORTH, INC.          |RITE AID #10287                |BERLIN    |2492        |997700.0 |\n",
      "|LAPERLE'S IGA PHARMACY         |null                           |COLEBROOK |1936        |394600.0 |\n",
      "|RITE AID OF NEW HAMPSHIRE INC  |RITE AID PHARMACY #4157        |GORHAM    |858         |202600.0 |\n",
      "|RITE AID OF NEW HAMPSHIRE INC  |null                           |BERLIN    |410         |199700.0 |\n",
      "|PHARMACY OPERATIONS, INC.      |D/B/A THE MEDICINE SHOPPE #1926|BERLIN    |338         |130300.0 |\n",
      "+-------------------------------+-------------------------------+----------+------------+---------+\n",
      "\n"
     ]
    }
   ],
   "source": [
    "# this collect step may take a few minutes as well\n",
    "# this took ~8 minutes with following settings: central, 1000GB master, 4 500GB helper nodes\n",
    "results.sort(results.PILL_SUM.desc()).show(20,False)"
   ]
  },
  {
   "cell_type": "markdown",
   "metadata": {},
   "source": [
    "## Digging in: Coos County\n",
    "### Potential tool: change in strength and volume by pharmacy over time?\n",
    "We want to see if the strength and volume by pharmacy over time shows any interesting results:\n",
    "  in COOS COUNTY"
   ]
  },
  {
   "cell_type": "code",
   "execution_count": 29,
   "metadata": {},
   "outputs": [
    {
     "name": "stdout",
     "output_type": "stream",
     "text": [
      "+------------+-------------------------------+----+-----------+--------+\n",
      "|BUYER_DEA_NO|BUYER_NAME                     |YEAR|TOTAL_PILLS|AVG_DOSE|\n",
      "+------------+-------------------------------+----+-----------+--------+\n",
      "|BM5180601   |MAXI DRUG NORTH, INC.          |2007|35900.0    |11.91   |\n",
      "|BM5180601   |MAXI DRUG NORTH, INC.          |2006|81300.0    |12.52   |\n",
      "|BR3822978   |RITE AID OF NEW HAMPSHIRE INC  |2007|73800.0    |14.56   |\n",
      "|BR3822978   |RITE AID OF NEW HAMPSHIRE INC  |2006|125900.0   |12.88   |\n",
      "|BR4157738   |RITE AID OF NEW HAMPSHIRE, INC.|2012|474950.0   |14.61   |\n",
      "|BR4157738   |RITE AID OF NEW HAMPSHIRE, INC.|2011|494680.0   |13.84   |\n",
      "|BR4157738   |RITE AID OF NEW HAMPSHIRE, INC.|2010|342250.0   |15.56   |\n",
      "|BR4157738   |RITE AID OF NEW HAMPSHIRE, INC.|2009|313100.0   |13.32   |\n",
      "|BR4157738   |RITE AID OF NEW HAMPSHIRE, INC.|2008|259800.0   |11.98   |\n",
      "|BR4157738   |RITE AID OF NEW HAMPSHIRE, INC.|2007|264300.0   |11.82   |\n",
      "|BR4157738   |RITE AID OF NEW HAMPSHIRE, INC.|2006|234300.0   |10.79   |\n",
      "|BR4157788   |RITE AID OF NEW HAMPSHIRE INC  |2009|58600.0    |14.39   |\n",
      "|BR4157788   |RITE AID OF NEW HAMPSHIRE INC  |2008|56400.0    |14.05   |\n",
      "|BR4157788   |RITE AID OF NEW HAMPSHIRE INC  |2007|49000.0    |11.77   |\n",
      "|BR4157788   |RITE AID OF NEW HAMPSHIRE INC  |2006|38600.0    |12.74   |\n",
      "|BR4157841   |RITE AID OF NEW HAMPSHIRE, INC.|2012|383810.0   |13.32   |\n",
      "|BR4157841   |RITE AID OF NEW HAMPSHIRE, INC.|2011|381650.0   |12.64   |\n",
      "|BR4157841   |RITE AID OF NEW HAMPSHIRE, INC.|2010|350580.0   |12.61   |\n",
      "|BR4157841   |RITE AID OF NEW HAMPSHIRE, INC.|2009|329100.0   |11.86   |\n",
      "|BR4157841   |RITE AID OF NEW HAMPSHIRE, INC.|2008|318600.0   |12.44   |\n",
      "|BR4157841   |RITE AID OF NEW HAMPSHIRE, INC.|2007|325400.0   |12.72   |\n",
      "|BR4157841   |RITE AID OF NEW HAMPSHIRE, INC.|2006|267500.0   |12.53   |\n",
      "|BR5180601   |MAXI DRUG NORTH, INC.          |2012|212540.0   |13.71   |\n",
      "|BR5180601   |MAXI DRUG NORTH, INC.          |2011|189160.0   |14.09   |\n",
      "|BR5180601   |MAXI DRUG NORTH, INC.          |2010|180600.0   |17.14   |\n",
      "|BR5180601   |MAXI DRUG NORTH, INC.          |2009|141200.0   |13.20   |\n",
      "|BR5180601   |MAXI DRUG NORTH, INC.          |2008|115700.0   |12.34   |\n",
      "|BR5180601   |MAXI DRUG NORTH, INC.          |2007|41300.0    |9.50    |\n",
      "|BW5783623   |WAL-MART PHARMACY 10-2634      |2012|315100.0   |13.68   |\n",
      "|BW5783623   |WAL-MART PHARMACY 10-2634      |2011|289000.0   |12.48   |\n",
      "|BW5783623   |WAL-MART PHARMACY 10-2634      |2010|270500.0   |14.83   |\n",
      "|BW5783623   |WAL-MART PHARMACY 10-2634      |2009|223800.0   |14.14   |\n",
      "|BW5783623   |WAL-MART PHARMACY 10-2634      |2008|188300.0   |14.78   |\n",
      "|BW5783623   |WAL-MART PHARMACY 10-2634      |2007|156400.0   |14.99   |\n",
      "|BW5783623   |WAL-MART PHARMACY 10-2634      |2006|111900.0   |15.03   |\n",
      "|FL0059887   |LAPERLE'S IGA PHARMACY         |2010|128700.0   |15.01   |\n",
      "|FL0059887   |LAPERLE'S IGA PHARMACY         |2009|149300.0   |16.06   |\n",
      "|FL0059887   |LAPERLE'S IGA PHARMACY         |2008|79500.0    |13.80   |\n",
      "|FL0059887   |LAPERLE'S IGA PHARMACY         |2007|33700.0    |15.00   |\n",
      "|FL0059887   |LAPERLE'S IGA PHARMACY         |2006|3400.0     |10.62   |\n",
      "|FP0333942   |PHARMACY OPERATIONS, INC.      |2008|82100.0    |16.12   |\n",
      "|FP0333942   |PHARMACY OPERATIONS, INC.      |2007|48200.0    |15.10   |\n",
      "+------------+-------------------------------+----+-----------+--------+\n",
      "\n"
     ]
    }
   ],
   "source": [
    "strength_vals = sqlContext.sql(\n",
    "                      \"SELECT \\\n",
    "                          BUYER_DEA_NO, BUYER_NAME, \\\n",
    "                          RIGHT(TRANSACTION_DATE,4) AS YEAR, \\\n",
    "                          SUM(DOSAGE_UNIT) AS TOTAL_PILLS, \\\n",
    "                          FORMAT_NUMBER(AVG(dos_str),2) AS AVG_DOSE \\\n",
    "                       FROM StateOpioids \\\n",
    "                       WHERE BUYER_COUNTY = 'COOS' \\\n",
    "                       GROUP BY BUYER_DEA_NO, BUYER_NAME, YEAR\\\n",
    "                       ORDER BY BUYER_DEA_NO, YEAR DESC\") #instantaneous\"\n",
    "    \n",
    "strength_vals.show(50,False)"
   ]
  },
  {
   "cell_type": "markdown",
   "metadata": {},
   "source": [
    "## Conclusion:\n",
    "- No clear trends on dosage strength. \n",
    "- The increase in pills over time in each pharmacy is obvious.\n",
    "\n",
    "## Next:\n",
    "### Deep-dive into who the biggest offenders sourced Opioids from.\n",
    "There is plenty more to be done here, but we have demonstrated Spark can help with finding the needles in the haystack.\n",
    "\n",
    "This sort of query could help **journalists or researches determine where to follow up**."
   ]
  },
  {
   "cell_type": "code",
   "execution_count": 25,
   "metadata": {},
   "outputs": [
    {
     "name": "stdout",
     "output_type": "stream",
     "text": [
      "+-------------------------------+------------+---------------+------------------------+----+-----------+\n",
      "|BUYER_NAME                     |BUYER_DEA_NO|REPORTER_DEA_NO|REPORTER_NAME           |YEAR|TOTAL_PILLS|\n",
      "+-------------------------------+------------+---------------+------------------------+----+-----------+\n",
      "|RITE AID OF NEW HAMPSHIRE, INC.|BR4157738   |PM0020850      |MCKESSON CORPORATION    |2012|331540.0   |\n",
      "|RITE AID OF NEW HAMPSHIRE, INC.|BR4157738   |RE0356003      |ECKERD CORPORATION      |2012|119510.0   |\n",
      "|RITE AID OF NEW HAMPSHIRE, INC.|BR4157738   |RA0287020      |ANDA PHARMACEUTICALS INC|2012|23800.0    |\n",
      "|RITE AID OF NEW HAMPSHIRE, INC.|BR4157738   |RA0180733      |ANDA, INC               |2012|100.0      |\n",
      "|RITE AID OF NEW HAMPSHIRE, INC.|BR4157738   |PM0020850      |MCKESSON CORPORATION    |2011|384860.0   |\n",
      "|RITE AID OF NEW HAMPSHIRE, INC.|BR4157738   |RE0356003      |ECKERD CORPORATION      |2011|109820.0   |\n",
      "|RITE AID OF NEW HAMPSHIRE, INC.|BR4157738   |PM0020850      |MCKESSON CORPORATION    |2010|248100.0   |\n",
      "|RITE AID OF NEW HAMPSHIRE, INC.|BR4157738   |RE0356003      |ECKERD CORPORATION      |2010|93250.0    |\n",
      "|RITE AID OF NEW HAMPSHIRE, INC.|BR4157738   |RA0287020      |ANDA PHARMACEUTICALS INC|2010|900.0      |\n",
      "|RITE AID OF NEW HAMPSHIRE, INC.|BR4157738   |PM0020850      |MCKESSON CORPORATION    |2009|227200.0   |\n",
      "|RITE AID OF NEW HAMPSHIRE, INC.|BR4157738   |RE0356003      |ECKERD CORPORATION      |2009|46400.0    |\n",
      "|RITE AID OF NEW HAMPSHIRE, INC.|BR4157738   |RR0236073      |RITE AID MID-ATLANTIC   |2009|38500.0    |\n",
      "|RITE AID OF NEW HAMPSHIRE, INC.|BR4157738   |RA0287020      |ANDA PHARMACEUTICALS INC|2009|1000.0     |\n",
      "|RITE AID OF NEW HAMPSHIRE, INC.|BR4157738   |PM0020850      |MCKESSON CORPORATION    |2008|170300.0   |\n",
      "|RITE AID OF NEW HAMPSHIRE, INC.|BR4157738   |RR0236073      |RITE AID MID-ATLANTIC   |2008|89500.0    |\n",
      "|RITE AID OF NEW HAMPSHIRE, INC.|BR4157738   |PM0020850      |MCKESSON CORPORATION    |2007|180400.0   |\n",
      "|RITE AID OF NEW HAMPSHIRE, INC.|BR4157738   |RR0236073      |RITE AID MID-ATLANTIC   |2007|83900.0    |\n",
      "|RITE AID OF NEW HAMPSHIRE, INC.|BR4157738   |PM0020850      |MCKESSON CORPORATION    |2006|162200.0   |\n",
      "|RITE AID OF NEW HAMPSHIRE, INC.|BR4157738   |RR0236073      |RITE AID MID-ATLANTIC   |2006|72100.0    |\n",
      "+-------------------------------+------------+---------------+------------------------+----+-----------+\n",
      "\n"
     ]
    }
   ],
   "source": [
    "### We've identified DEA NO. BR4157738 and BR4157841 as our high offenders.\n",
    "\n",
    "### Who did they buy from? What were the changes? These would be questions for research.\n",
    "sellers = sqlContext.sql(\n",
    "                        \"SELECT \\\n",
    "                            BUYER_NAME, BUYER_DEA_NO, REPORTER_DEA_NO, REPORTER_NAME,\\\n",
    "                            RIGHT(TRANSACTION_DATE,4) AS YEAR, \\\n",
    "                            SUM(DOSAGE_UNIT) AS TOTAL_PILLS \\\n",
    "                         FROM StateOpioids \\\n",
    "                         WHERE BUYER_DEA_NO = 'BR4157738' \\\n",
    "                         GROUP BY BUYER_NAME, BUYER_DEA_NO, REPORTER_DEA_NO, REPORTER_NAME, YEAR\\\n",
    "                         ORDER BY YEAR DESC, TOTAL_PILLS DESC\")\n",
    "\n",
    "sellers.show(50,False)\n",
    "## we see that RITE AID bought most of its pills from McKesson. Could be useful information."
   ]
  },
  {
   "cell_type": "markdown",
   "metadata": {},
   "source": [
    "## Observations so far:\n",
    "There is no obvious change over time in the average dose strength of the pills; just in overall volume of pills.\n",
    "\n",
    "Market changes It looks like somes pharmacies either stopped operating or selling opioids after '07-'08, which may have driven up the numbers at the remaining large chain locations (Rite Aids, Walmart). This could have been due to rule changes or regulations. Raw volume still increased statewide, despite fewer pharmacy buyers.\n",
    "\n"
   ]
  },
  {
   "cell_type": "markdown",
   "metadata": {},
   "source": [
    "# Next Steps: \n",
    "## utilize pyspark/sparkSQL to join large pharmacy and opioid datasets\n",
    "Note that the pharmacy datasets won't be cut down before SparkSQL gets to them - performance is still very good."
   ]
  },
  {
   "cell_type": "code",
   "execution_count": 45,
   "metadata": {},
   "outputs": [],
   "source": [
    "# ingest Arcos pharmacy national dataset - latlon level\n",
    "dfLatLon = spark.read.option(\"sep\", \",\").option(\"header\", \"true\").option(\"inferSchema\", \"true\").csv(\"gs://119-f19-opioidbucket/pharmacies_latlon.csv\")\n",
    "# dfLatLon.printSchema()\n",
    "\n",
    "dfLatLon.createOrReplaceTempView(\"PharmLatLon\")\n",
    "\n",
    "# ingest Arcos pharmacy national dataset - tract-level\n",
    "dfTract = spark.read.option(\"sep\", \",\").option(\"header\", \"true\").option(\"inferSchema\", \"true\").csv(\"gs://119-f19-opioidbucket/pharmacies_tracts.csv\")\n",
    "# dfTract.printSchema()\n",
    "\n",
    "dfTract.createOrReplaceTempView(\"PharmTract\")"
   ]
  },
  {
   "cell_type": "code",
   "execution_count": 180,
   "metadata": {},
   "outputs": [],
   "source": [
    "## next step: write query to aggregate X at pharmacy level, join in tract and latlon data on DEA ID.\n",
    "#specifically, we want to look at Coos County, from our initial analysis:\n",
    "coos_results = sqlContext.sql(\"SELECT so.BUYER_DEA_NO, pt.GEOID, ll.lat, ll.lon,\\\n",
    "                         SUM(DOSAGE_UNIT) AS PILL_SUM \\\n",
    "                         FROM StateOpioids so\\\n",
    "                         LEFT JOIN PharmTract pt on pt.BUYER_DEA_NO = so.BUYER_DEA_NO \\\n",
    "                         LEFT JOIN PharmLatLon ll on ll.BUYER_DEA_NO = so.BUYER_DEA_NO \\\n",
    "                         WHERE 1=1 \\\n",
    "                         AND so.BUYER_COUNTY = 'COOS'\\\n",
    "                         GROUP BY so.BUYER_DEA_NO, pt.GEOID, pt.TRACTCE, pt.LSAD, ll.lat, ll.lon\")\n",
    "\n",
    "# coos_results.printSchema()"
   ]
  },
  {
   "cell_type": "code",
   "execution_count": null,
   "metadata": {},
   "outputs": [],
   "source": [
    "coos_results.show(20,False)"
   ]
  },
  {
   "cell_type": "code",
   "execution_count": 42,
   "metadata": {},
   "outputs": [],
   "source": [
    "state_results = sqlContext.sql(\"SELECT so.BUYER_DEA_NO, pt.GEOID, ll.lat, ll.lon,\\\n",
    "                         SUM(DOSAGE_UNIT) AS PILL_SUM \\\n",
    "                         FROM StateOpioids so\\\n",
    "                         INNER JOIN PharmTract pt on pt.BUYER_DEA_NO = so.BUYER_DEA_NO \\\n",
    "                         LEFT JOIN PharmLatLon ll on ll.BUYER_DEA_NO = so.BUYER_DEA_NO \\\n",
    "                         WHERE 1=1 \\\n",
    "                         GROUP BY so.BUYER_DEA_NO, pt.GEOID, pt.TRACTCE, ll.lat, ll.lon\")\n",
    "##NOTE that some pharmacies lack tract record; these tended to be very small pharmacies/included sales of <8k pills over 7 years."
   ]
  },
  {
   "cell_type": "code",
   "execution_count": 55,
   "metadata": {},
   "outputs": [
    {
     "name": "stdout",
     "output_type": "stream",
     "text": [
      "+------------+-----------+----+----------+-----------+---------+\n",
      "|BUYER_DEA_NO|GEOID      |LSAD|lat       |lon        |PILL_SUM |\n",
      "+------------+-----------+----+----------+-----------+---------+\n",
      "|BR1058937   |33011011102|CT  |42.7139059|-71.4418565|1368420.0|\n",
      "|BT8680438   |33013032500|CT  |43.198989 |-71.562263 |1959660.0|\n",
      "|BR4157841   |33007950500|CT  |44.4942167|-71.5720511|2356640.0|\n",
      "|FW3514735   |33009960200|CT  |44.2274551|-71.7481351|4100.0   |\n",
      "|BS3106502   |33011002500|CT  |42.9577343|-71.4416246|678840.0 |\n",
      "+------------+-----------+----+----------+-----------+---------+\n",
      "only showing top 5 rows\n",
      "\n"
     ]
    },
    {
     "data": {
      "text/plain": [
       "354"
      ]
     },
     "execution_count": 55,
     "metadata": {},
     "output_type": "execute_result"
    }
   ],
   "source": [
    "state_results.show(5,False)\n",
    "state_results.count()"
   ]
  },
  {
   "cell_type": "markdown",
   "metadata": {},
   "source": [
    "## Write CSV to bucket for separate (geospatial, etc.) analysis:\n"
   ]
  },
  {
   "cell_type": "code",
   "execution_count": 49,
   "metadata": {},
   "outputs": [],
   "source": [
    "# type(state_results)\n",
    "pDF = state_results.toPandas().to_csv(\"pharmacyAgg.csv\", encoding='utf-8', index=False)"
   ]
  },
  {
   "cell_type": "markdown",
   "metadata": {},
   "source": [
    "# Question: which county experienced the greatest volume change in pills?\n",
    "Using PySpark to recreate, verify, and expand on the WaPo Investigative team's API work."
   ]
  },
  {
   "cell_type": "code",
   "execution_count": 181,
   "metadata": {},
   "outputs": [],
   "source": [
    "# ingest population data:\n",
    "popdata = spark.read.option(\"sep\", \",\").option(\"header\",\"true\").option(\"inferSchema\", \"true\").csv(\"gs://119-f19-opioidbucket/pop_counties_20062012.csv\")\n",
    "# popdata.printSchema()\n",
    "# popdata.head()\n",
    "popdata1 = popdata.withColumn(\"population\", popdata.population.cast('int'))\n",
    "# popdata1.head()"
   ]
  },
  {
   "cell_type": "code",
   "execution_count": 182,
   "metadata": {},
   "outputs": [],
   "source": [
    "popdata1.createOrReplaceTempView(\"popdata\")\n",
    "# test = sqlContext.sql(\"SELECT * FROM popdata\")\n",
    "# test.show(20,False)"
   ]
  },
  {
   "cell_type": "code",
   "execution_count": 183,
   "metadata": {},
   "outputs": [],
   "source": [
    "county_diffs = sqlContext.sql(\"with cte1 AS ( \\\n",
    "                               SELECT so.BUYER_COUNTY,\\\n",
    "                                 so.BUYER_STATE,\\\n",
    "                                 SUM(DOSAGE_UNIT) AS TOTAL_PILLS, \\\n",
    "                                 RIGHT(so.TRANSACTION_DATE,4) AS YEAR\\\n",
    "                                 FROM StateOpioids so\\\n",
    "                                 WHERE 1=1 \\\n",
    "                                 GROUP BY so.BUYER_COUNTY, so.BUYER_STATE, YEAR)\\\n",
    "                               SELECT  \\\n",
    "                                 cte1.BUYER_COUNTY,\\\n",
    "                                 MIN(TOTAL_PILLS/population) AS MIN_PER_CAPITA,\\\n",
    "                                 MAX(TOTAL_PILLS/population) AS MAX_PER_CAPITA\\\n",
    "                               FROM cte1\\\n",
    "                               LEFT JOIN popdata pop ON upper(pop.BUYER_COUNTY) = upper(cte1.BUYER_COUNTY) \\\n",
    "                                                        and CAST(pop.year as int) = CAST(cte1.YEAR as int)\\\n",
    "                                                        and upper(pop.BUYER_STATE) = upper(cte1.BUYER_STATE)\\\n",
    "                               GROUP BY cte1.BUYER_COUNTY\")\n",
    "\n",
    "# county_diffs.show(20,False)\n",
    "pDF2 = county_diffs.toPandas()"
   ]
  },
  {
   "cell_type": "markdown",
   "metadata": {},
   "source": [
    "## Reproducing results:"
   ]
  },
  {
   "cell_type": "code",
   "execution_count": 165,
   "metadata": {},
   "outputs": [
    {
     "name": "stdout",
     "output_type": "stream",
     "text": [
      "   BUYER_COUNTY  MIN_PER_CAPITA  MAX_PER_CAPITA    MAXDIFF\n",
      "0          COOS       25.519016       42.175712  16.656696\n",
      "2       CARROLL       24.620105       40.703084  16.082979\n",
      "6       GRAFTON       29.983722       43.882564  13.898842\n",
      "3     STRAFFORD       28.062278       41.103297  13.041019\n",
      "8       BELKNAP       25.655436       38.280403  12.624967\n",
      "5    ROCKINGHAM       24.090553       34.604759  10.514206\n",
      "4      CHESHIRE       20.036571       30.473733  10.437162\n",
      "1     MERRIMACK       29.474862       39.737589  10.262727\n",
      "9  HILLSBOROUGH       19.864957       27.545441   7.680484\n",
      "7      SULLIVAN       23.403079       28.395483   4.992404\n"
     ]
    }
   ],
   "source": [
    "pDF2[\"MAXDIFF\"] = pDF2[\"MAX_PER_CAPITA\"] - pDF2[\"MIN_PER_CAPITA\"]\n",
    "print(pDF2.sort_values(by=['MAXDIFF'], ascending=False))"
   ]
  },
  {
   "cell_type": "markdown",
   "metadata": {},
   "source": [
    "## Answer: Coos County, NH\n",
    "\n",
    "We have demonstrated that we can compute the maximum change over that seven year period by county very quickly from (mostly) raw data.\n",
    "\n",
    "Compare against the overall values:\n"
   ]
  },
  {
   "cell_type": "code",
   "execution_count": 194,
   "metadata": {},
   "outputs": [
    {
     "data": {
      "text/html": [
       "<div>\n",
       "<style scoped>\n",
       "    .dataframe tbody tr th:only-of-type {\n",
       "        vertical-align: middle;\n",
       "    }\n",
       "\n",
       "    .dataframe tbody tr th {\n",
       "        vertical-align: top;\n",
       "    }\n",
       "\n",
       "    .dataframe thead th {\n",
       "        text-align: right;\n",
       "    }\n",
       "</style>\n",
       "<table border=\"1\" class=\"dataframe\">\n",
       "  <thead>\n",
       "    <tr style=\"text-align: right;\">\n",
       "      <th></th>\n",
       "      <th>BUYER_STATE</th>\n",
       "      <th>MIN_PER_CAPITA</th>\n",
       "      <th>MAX_PER_CAPITA</th>\n",
       "      <th>MAXDIFF</th>\n",
       "    </tr>\n",
       "  </thead>\n",
       "  <tbody>\n",
       "    <tr>\n",
       "      <th>0</th>\n",
       "      <td>NH</td>\n",
       "      <td>24.03082</td>\n",
       "      <td>34.205114</td>\n",
       "      <td>10.174295</td>\n",
       "    </tr>\n",
       "  </tbody>\n",
       "</table>\n",
       "</div>"
      ],
      "text/plain": [
       "  BUYER_STATE  MIN_PER_CAPITA  MAX_PER_CAPITA    MAXDIFF\n",
       "0          NH        24.03082       34.205114  10.174295"
      ]
     },
     "execution_count": 194,
     "metadata": {},
     "output_type": "execute_result"
    }
   ],
   "source": [
    "state_diff = sqlContext.sql(\"with cte1 AS ( \\\n",
    "                               SELECT so.BUYER_STATE,\\\n",
    "                                 SUM(DOSAGE_UNIT) AS TOTAL_PILLS, \\\n",
    "                                 RIGHT(so.TRANSACTION_DATE,4) AS YEAR\\\n",
    "                                 FROM StateOpioids so\\\n",
    "                                 WHERE 1=1 \\\n",
    "                                 GROUP BY so.BUYER_STATE, YEAR)\\\n",
    "                             , cte2 AS (\\\n",
    "                                 SELECT SUM(population) AS POPSUM \\\n",
    "                                       , YEAR\\\n",
    "                                       , BUYER_STATE\\\n",
    "                                    FROM popdata\\\n",
    "                                    GROUP BY YEAR, BUYER_STATE)\\\n",
    "                               SELECT  \\\n",
    "                                 cte1.BUYER_STATE,\\\n",
    "                                 MIN(TOTAL_PILLS/POPSUM) AS MIN_PER_CAPITA,\\\n",
    "                                 MAX(TOTAL_PILLS/POPSUM) AS MAX_PER_CAPITA\\\n",
    "                               FROM cte1\\\n",
    "                               LEFT JOIN cte2 pop ON CAST(pop.year as int) = CAST(cte1.YEAR as int)\\\n",
    "                                                        and upper(pop.BUYER_STATE) = upper(cte1.BUYER_STATE)\\\n",
    "                               GROUP BY cte1.BUYER_STATE\")\n",
    "\n",
    "# state_diff.show(5,False)\n",
    "pDF2A = state_diff.toPandas()\n",
    "pDF2A[\"MAXDIFF\"] = pDF2A[\"MAX_PER_CAPITA\"] - pDF2A[\"MIN_PER_CAPITA\"]\n",
    "\n",
    "pDF2A.head()"
   ]
  },
  {
   "cell_type": "markdown",
   "metadata": {},
   "source": [
    "## Results:\n",
    "### Coos County prescription opioid volume increased at a rate ~60% more than statewide!\n",
    "We have shown a way to quickly compute the county and overall state per capita changes in pill volume 2006-2012 (7 years). Researchers or journalists could use this approach to look deeper beyond the WaPo Investigative team's API.\n",
    "\n",
    "As our out-of-Spark Social Vulnerability Index analysis will show, this is a public health crisis that intersects with other social factors. Coos County's struggles with the opioid crisis and other public health issues likely were exacerbated and potentially contributed to the relative flood of prescription opioids, in some way."
   ]
  },
  {
   "cell_type": "markdown",
   "metadata": {},
   "source": [
    "\n",
    "\n",
    "\n",
    "\n",
    "and now... How powerful is Spark?\n",
    "## BONUS!\n",
    "This can be altered to look at the national results! With minimal code change:"
   ]
  },
  {
   "cell_type": "code",
   "execution_count": 177,
   "metadata": {},
   "outputs": [],
   "source": [
    "df.createOrReplaceTempView(\"NationalOpioids\")\n",
    "\n",
    "nat_county_diffs = sqlContext.sql(\"with cte1 AS ( \\\n",
    "                               SELECT so.BUYER_COUNTY,\\\n",
    "                                 so.BUYER_STATE,\\\n",
    "                                 SUM(DOSAGE_UNIT) AS TOTAL_PILLS, \\\n",
    "                                 RIGHT(so.TRANSACTION_DATE,4) AS YEAR\\\n",
    "                                 FROM NationalOpioids so\\\n",
    "                                 WHERE 1=1 \\\n",
    "                                 GROUP BY so.BUYER_COUNTY, so.BUYER_STATE, YEAR)\\\n",
    "                               SELECT  \\\n",
    "                                 cte1.BUYER_COUNTY,\\\n",
    "                                 cte1.BUYER_STATE,\\\n",
    "                                 MIN(TOTAL_PILLS/population) AS MIN_PER_CAPITA,\\\n",
    "                                 MAX(TOTAL_PILLS/population) AS MAX_PER_CAPITA\\\n",
    "                               FROM cte1\\\n",
    "                               LEFT JOIN popdata pop ON upper(pop.BUYER_COUNTY) = upper(cte1.BUYER_COUNTY) \\\n",
    "                                                        and CAST(pop.year as int) = CAST(cte1.YEAR as int)\\\n",
    "                                                        and upper(pop.BUYER_STATE) = upper(cte1.BUYER_STATE)\\\n",
    "                               GROUP BY cte1.BUYER_COUNTY, cte1.BUYER_STATE\")\n",
    "\n",
    "pDF3 = nat_county_diffs.toPandas() #collect step"
   ]
  },
  {
   "cell_type": "code",
   "execution_count": 179,
   "metadata": {},
   "outputs": [
    {
     "name": "stdout",
     "output_type": "stream",
     "text": [
      "           BUYER_COUNTY BUYER_STATE  MIN_PER_CAPITA  MAX_PER_CAPITA  \\\n",
      "3110        LEAVENWORTH          KS       68.473825      501.605074   \n",
      "1066         CHARLESTON          SC       83.294254      381.957373   \n",
      "2439              MINGO          WV      104.245686      364.808194   \n",
      "1277            KIMBALL          NE       20.425308      204.717711   \n",
      "142               FLOYD          KY       90.967226      246.946173   \n",
      "322           TROUSDALE          TN       49.220555      170.108350   \n",
      "174         NORTON CITY          VA      238.666667      347.527071   \n",
      "1978  MARTINSVILLE CITY          VA      191.296128      296.840513   \n",
      "1831         GALAX CITY          VA       95.478994      191.777554   \n",
      "71                BACON          GA       57.549148      153.588294   \n",
      "3119            PICKETT          TN       39.822815      133.967413   \n",
      "2071              PERRY          KY      123.557876      215.552190   \n",
      "1771             OWSLEY          KY       64.979970      156.717045   \n",
      "861          RUTHERFORD          TN       27.817978      117.634200   \n",
      "969              MARION          AL       66.445629      149.125355   \n",
      "2419              CLARK          KS       22.362345      104.909008   \n",
      "916              LESLIE          KY       74.119567      155.173175   \n",
      "1012              WOLFE          KY       55.195700      135.563168   \n",
      "256              GRUNDY          TN       99.749876      174.628754   \n",
      "2415             MORTON          KS       49.050228      123.497522   \n",
      "2513            DECATUR          TN      104.270770      177.505967   \n",
      "714               IZARD          AR       48.947950      118.216486   \n",
      "1826             ESTILL          KY       32.285946      101.350690   \n",
      "2973           FENTRESS          TN       88.624529      157.639084   \n",
      "2883             BROOKS          GA       31.673309       99.243745   \n",
      "61                DEWEY          OK       15.559403       83.118325   \n",
      "2762         SEQUATCHIE          TN       69.297546      136.096098   \n",
      "3067            HOPKINS          KY       60.261583      126.125189   \n",
      "282              ORANGE          TX       53.758414      119.518327   \n",
      "2694              LEWIS          ID       57.704741      122.420115   \n",
      "...                 ...         ...             ...             ...   \n",
      "1975           CAROLINA          PR             NaN             NaN   \n",
      "1987            COROZAL          PR             NaN             NaN   \n",
      "2093           AIBONITO          PR             NaN             NaN   \n",
      "2110             DORADO          PR             NaN             NaN   \n",
      "2119              CIDRA          PR             NaN             NaN   \n",
      "2178       SANTA ISABEL          PR             NaN             NaN   \n",
      "2280           TOA ALTA          PR             NaN             NaN   \n",
      "2331          CABO ROJO          PR             NaN             NaN   \n",
      "2349             MANATI          PR             NaN             NaN   \n",
      "2383             CIALES          PR             NaN             NaN   \n",
      "2423             CAGUAS          PR             NaN             NaN   \n",
      "2431            FAJARDO          PR             NaN             NaN   \n",
      "2509               null          OH             NaN             NaN   \n",
      "2545               null          GA             NaN             NaN   \n",
      "2568               GUAM          GU             NaN             NaN   \n",
      "2599         SAN GERMAN          PR             NaN             NaN   \n",
      "2605               null          PR             NaN             NaN   \n",
      "2701         GUAYANILLA          PR             NaN             NaN   \n",
      "2744            MAUNABO          PR             NaN             NaN   \n",
      "2803               null          CA             NaN             NaN   \n",
      "2819            FLORIDA          PR             NaN             NaN   \n",
      "2900      SABANA GRANDE          PR             NaN             NaN   \n",
      "2927               null          FL             NaN             NaN   \n",
      "2940           GUAYNABO          PR             NaN             NaN   \n",
      "2996            HATILLO          PR             NaN             NaN   \n",
      "3000              YAUCO          PR             NaN             NaN   \n",
      "3076               null          MA             NaN             NaN   \n",
      "3099        LAS PIEDRAS          PR             NaN             NaN   \n",
      "3111       SAINT THOMAS          VI             NaN             NaN   \n",
      "3126             UTUADO          PR             NaN             NaN   \n",
      "\n",
      "         MAXDIFF  \n",
      "3110  433.131249  \n",
      "1066  298.663119  \n",
      "2439  260.562507  \n",
      "1277  184.292402  \n",
      "142   155.978946  \n",
      "322   120.887795  \n",
      "174   108.860405  \n",
      "1978  105.544385  \n",
      "1831   96.298560  \n",
      "71     96.039146  \n",
      "3119   94.144598  \n",
      "2071   91.994314  \n",
      "1771   91.737074  \n",
      "861    89.816221  \n",
      "969    82.679726  \n",
      "2419   82.546664  \n",
      "916    81.053608  \n",
      "1012   80.367468  \n",
      "256    74.878879  \n",
      "2415   74.447293  \n",
      "2513   73.235196  \n",
      "714    69.268536  \n",
      "1826   69.064744  \n",
      "2973   69.014555  \n",
      "2883   67.570435  \n",
      "61     67.558922  \n",
      "2762   66.798553  \n",
      "3067   65.863606  \n",
      "282    65.759913  \n",
      "2694   64.715374  \n",
      "...          ...  \n",
      "1975         NaN  \n",
      "1987         NaN  \n",
      "2093         NaN  \n",
      "2110         NaN  \n",
      "2119         NaN  \n",
      "2178         NaN  \n",
      "2280         NaN  \n",
      "2331         NaN  \n",
      "2349         NaN  \n",
      "2383         NaN  \n",
      "2423         NaN  \n",
      "2431         NaN  \n",
      "2509         NaN  \n",
      "2545         NaN  \n",
      "2568         NaN  \n",
      "2599         NaN  \n",
      "2605         NaN  \n",
      "2701         NaN  \n",
      "2744         NaN  \n",
      "2803         NaN  \n",
      "2819         NaN  \n",
      "2900         NaN  \n",
      "2927         NaN  \n",
      "2940         NaN  \n",
      "2996         NaN  \n",
      "3000         NaN  \n",
      "3076         NaN  \n",
      "3099         NaN  \n",
      "3111         NaN  \n",
      "3126         NaN  \n",
      "\n",
      "[3130 rows x 5 columns]\n"
     ]
    }
   ],
   "source": [
    "pDF3[\"MAXDIFF\"] = pDF3[\"MAX_PER_CAPITA\"] - pDF3[\"MIN_PER_CAPITA\"]\n",
    "print(pDF3.sort_values(by=['MAXDIFF'], ascending=False))"
   ]
  },
  {
   "cell_type": "code",
   "execution_count": null,
   "metadata": {},
   "outputs": [],
   "source": [
    "# this is why it's important to dig deeper - looks like the Leavenworth example is due to an anomaly in how the shipping data is calculated:\n",
    "# https://www.kcur.org/post/leavenworth-county-kansas-may-not-be-catastrophic-opioid-hotspot-new-data-appear-show#stream/0\n",
    "# /end bonus round!"
   ]
  }
 ],
 "metadata": {
  "kernelspec": {
   "display_name": "PySpark",
   "language": "python",
   "name": "pyspark"
  },
  "language_info": {
   "codemirror_mode": {
    "name": "ipython",
    "version": 2
   },
   "file_extension": ".py",
   "mimetype": "text/x-python",
   "name": "python",
   "nbconvert_exporter": "python",
   "pygments_lexer": "ipython2",
   "version": "2.7.14"
  }
 },
 "nbformat": 4,
 "nbformat_minor": 2
}